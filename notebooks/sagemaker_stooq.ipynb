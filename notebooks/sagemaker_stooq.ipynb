{
 "cells": [
  {
   "cell_type": "code",
   "execution_count": null,
   "id": "ec7d1635-02c4-4c90-95eb-089bafa66c7f",
   "metadata": {},
   "outputs": [],
   "source": [
    "import sagemaker\n",
    "from sagemaker.sklearn.processing import SKLearnProcessor\n",
    "from sagemaker.processing import ProcessingInput, ProcessingOutput\n",
    "from datetime import datetime\n",
    "\n",
    "session = sagemaker.Session()\n",
    "region  = session.boto_region_name\n",
    "role    = \"arn:aws:iam::[ACCOUNT]:role/SagemakerAccess\"\n",
    "\n",
    "raw_bucket = \"ai-trading-copilot-raw\"\n",
    "cur_bucket = \"ai-trading-copilot-curated\"\n",
    "\n",
    "dates_to_process = [\n",
    "    \"2025-10-06\", \"2025-10-08\", \"2025-10-09\", \"2025-10-10\",\n",
    "    \"2025-10-13\", \"2025-10-14\", \"2025-10-15\",\n",
    "]\n",
    "most_recent_date = max(dates_to_process)\n",
    "print(f\"Using data from the most recent folder: {most_recent_date}\")\n",
    "\n",
    "processing_input = [\n",
    "    ProcessingInput(\n",
    "        source=f\"s3://{raw_bucket}/stooq/daily/{most_recent_date}/\",\n",
    "        destination=\"/opt/ml/processing/input/raw-data/\"\n",
    "    )\n",
    "]\n",
    "\n",
    "processor = SKLearnProcessor(\n",
    "    framework_version=\"1.2-1\",\n",
    "    role=role,\n",
    "    instance_type=\"ml.t3.medium\",\n",
    "    instance_count=1,\n",
    "    base_job_name=\"feature-engg-yearly\", \n",
    "    env={\n",
    "        \"AWS_REGION\": region,\n",
    "        \"RAW_BUCKET\": raw_bucket,\n",
    "        \"CURATED_BUCKET\": cur_bucket\n",
    "    }\n",
    ")\n",
    "\n",
    "timestamp = datetime.now().strftime(\"%Y-%m-%d-%H-%M-%S\")\n",
    "unique_job_name = f\"fe-yearly-run-{timestamp}\"\n",
    "\n",
    "# 6. Run the job\n",
    "processor.run(\n",
    "    code=\"processing/feature_builder.py\",\n",
    "    job_name=unique_job_name,\n",
    "    arguments=[\"--symbols\", \"AAPL,MSFT,AMZN\"],\n",
    "    inputs=processing_input, \n",
    "    outputs=[\n",
    "        ProcessingOutput(\n",
    "            source=\"/opt/ml/processing/output\",\n",
    "            destination=f\"s3://{cur_bucket}/features/{unique_job_name}/\"\n",
    "        )\n",
    "    ]\n",
    ")"
   ]
  }
 ],
 "metadata": {
  "kernelspec": {
   "display_name": "conda_python3",
   "language": "python",
   "name": "conda_python3"
  },
  "language_info": {
   "codemirror_mode": {
    "name": "ipython",
    "version": 3
   },
   "file_extension": ".py",
   "mimetype": "text/x-python",
   "name": "python",
   "nbconvert_exporter": "python",
   "pygments_lexer": "ipython3",
   "version": "3.10.18"
  }
 },
 "nbformat": 4,
 "nbformat_minor": 5
}
