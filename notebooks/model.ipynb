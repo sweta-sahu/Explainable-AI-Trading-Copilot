{
 "cells": [
  {
   "cell_type": "code",
   "execution_count": null,
   "id": "474634bd-8377-48f5-ab5f-74f60dbde943",
   "metadata": {},
   "outputs": [],
   "source": [
    "import sagemaker\n",
    "from sagemaker.tuner import HyperparameterTuner, IntegerParameter, ContinuousParameter\n",
    "from sagemaker.xgboost.estimator import XGBoost\n",
    "\n",
    "session = sagemaker.Session()\n",
    "role = sagemaker.get_execution_role()\n",
    "default_bucket = session.default_bucket()\n",
    "\n",
    "s3_input_path = \"s3://ai-trading-copilot-curated/features/fe-yearly-run-2025-10-18-00-39-10/\"\n",
    "\n",
    "s3_output_path = f\"s3://{default_bucket}/stock-model-tuning/\"\n",
    "\n",
    "estimator = XGBoost(\n",
    "    entry_point=\"final_model.py\",\n",
    "    source_dir=\"model\", \n",
    "    role=role,\n",
    "    instance_count=1,\n",
    "    instance_type='ml.m5.large',\n",
    "    framework_version='1.7-1',\n",
    "    output_path=s3_output_path,\n",
    "    py_version='py3'\n",
    ")\n",
    "\n",
    "hyperparameter_ranges = {\n",
    "    'max_depth': IntegerParameter(3, 8),\n",
    "    'eta': ContinuousParameter(0.01, 0.2), \n",
    "    'min_child_weight': IntegerParameter(1, 10),\n",
    "    'subsample': ContinuousParameter(0.5, 0.9),\n",
    "    'colsample_bytree': ContinuousParameter(0.5, 0.9)\n",
    "}\n",
    "\n",
    "# The tuner will find the job that maximized the validation:auc metric\n",
    "tuner = HyperparameterTuner(\n",
    "    estimator=estimator,\n",
    "    objective_metric_name='validation:auc',\n",
    "    hyperparameter_ranges=hyperparameter_ranges,\n",
    "    objective_type='Maximize',\n",
    "    max_jobs=20,\n",
    "    max_parallel_jobs=4,\n",
    "    base_tuning_job_name='stock-xgb-tuning'\n",
    ")\n",
    "\n",
    "tuner.fit({'train': s3_input_path})\n",
    "\n",
    "print(\"Tuning job launched! Monitor its progress in the SageMaker console.\")"
   ]
  },
  {
   "cell_type": "code",
   "execution_count": null,
   "id": "77770491-c2b3-4da7-90fc-390f34f4bf20",
   "metadata": {},
   "outputs": [],
   "source": [
    "import boto3\n",
    "\n",
    "\n",
    "s3_uri = \"s3://sagemaker-us-east-1-[ACCOUNT]/[TRAINED-MODEL]/output/model.tar.gz\"\n",
    "\n",
    "from urllib.parse import urlparse\n",
    "parsed_uri = urlparse(s3_uri)\n",
    "bucket_name = parsed_uri.netloc\n",
    "s3_key = parsed_uri.path.lstrip('/')\n",
    "local_filename = \"best_model.tar.gz\"\n",
    "\n",
    "s3_client = boto3.client('s3')\n",
    "print(f\"Downloading {s3_uri} to {local_filename}...\")\n",
    "s3_client.download_file(bucket_name, s3_key, local_filename)\n",
    "print(\" Download complete.\")"
   ]
  },
  {
   "cell_type": "code",
   "execution_count": null,
   "id": "c5cccef3-afb9-4108-bb6b-c2d2b5a6c6b3",
   "metadata": {},
   "outputs": [],
   "source": [
    "!tar -xvzf best_model.tar.gz model.pkl"
   ]
  }
 ],
 "metadata": {
  "kernelspec": {
   "display_name": "conda_python3",
   "language": "python",
   "name": "conda_python3"
  },
  "language_info": {
   "codemirror_mode": {
    "name": "ipython",
    "version": 3
   },
   "file_extension": ".py",
   "mimetype": "text/x-python",
   "name": "python",
   "nbconvert_exporter": "python",
   "pygments_lexer": "ipython3",
   "version": "3.10.18"
  }
 },
 "nbformat": 4,
 "nbformat_minor": 5
}
